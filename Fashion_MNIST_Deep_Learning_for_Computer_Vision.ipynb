{
  "nbformat": 4,
  "nbformat_minor": 0,
  "metadata": {
    "colab": {
      "name": "Fashion_MNIST_Deep_Learning_for_Computer_Vision.ipynb",
      "provenance": [],
      "authorship_tag": "ABX9TyNTGMcN2ahSdxHAxNuh67/S",
      "include_colab_link": true
    },
    "kernelspec": {
      "name": "python3",
      "display_name": "Python 3"
    },
    "language_info": {
      "name": "python"
    }
  },
  "cells": [
    {
      "cell_type": "markdown",
      "metadata": {
        "id": "view-in-github",
        "colab_type": "text"
      },
      "source": [
        "<a href=\"https://colab.research.google.com/github/kristina0614/Computer-Vision-Course/blob/main/Fashion_MNIST_Deep_Learning_for_Computer_Vision.ipynb\" target=\"_parent\"><img src=\"https://colab.research.google.com/assets/colab-badge.svg\" alt=\"Open In Colab\"/></a>"
      ]
    },
    {
      "cell_type": "markdown",
      "metadata": {
        "id": "97gh3l52xnwp"
      },
      "source": [
        "## Fashion MNIST Classification Model\n",
        "#### Using the notebooks provided by Jason Brownlee in his book, Deep Learning for Computer Vision as the base, we explore ther Fashion MNIST dataset using a Convolution Neural for clothing classification\n",
        "\n",
        "Reference: https://machinelearningmastery.com/how-to-develop-a-cnn-from-scratch-for-fashion-mnist-clothing-classification/"
      ]
    },
    {
      "cell_type": "code",
      "metadata": {
        "id": "57yI73SswXvI"
      },
      "source": [
        ""
      ],
      "execution_count": null,
      "outputs": []
    }
  ]
}